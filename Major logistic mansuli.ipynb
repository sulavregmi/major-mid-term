{
 "cells": [
  {
   "cell_type": "code",
   "execution_count": 1,
   "metadata": {},
   "outputs": [],
   "source": [
    "import pandas as pd\n",
    "import numpy as np\n",
    "import matplotlib.pyplot as plt\n",
    "import seaborn as sns"
   ]
  },
  {
   "cell_type": "code",
   "execution_count": 2,
   "metadata": {},
   "outputs": [],
   "source": [
    "train = pd.read_csv(r\"C:\\Users\\acer\\Desktop\\DataBase - Mansuli6.csv\")"
   ]
  },
  {
   "cell_type": "code",
   "execution_count": 3,
   "metadata": {},
   "outputs": [
    {
     "data": {
      "text/html": [
       "<div>\n",
       "<style scoped>\n",
       "    .dataframe tbody tr th:only-of-type {\n",
       "        vertical-align: middle;\n",
       "    }\n",
       "\n",
       "    .dataframe tbody tr th {\n",
       "        vertical-align: top;\n",
       "    }\n",
       "\n",
       "    .dataframe thead th {\n",
       "        text-align: right;\n",
       "    }\n",
       "</style>\n",
       "<table border=\"1\" class=\"dataframe\">\n",
       "  <thead>\n",
       "    <tr style=\"text-align: right;\">\n",
       "      <th></th>\n",
       "      <th>Moisture (%)</th>\n",
       "      <th>Foreign Matter (%)</th>\n",
       "      <th>Broken (%)</th>\n",
       "      <th>Red &amp; Chalky grains (%)</th>\n",
       "      <th>Damaged Grain (%)</th>\n",
       "      <th>Discolored grain(%)/ 1mm/ Shrivelled</th>\n",
       "      <th>Mixed ( lower class) (%) (Other Grain)</th>\n",
       "      <th>Final Value</th>\n",
       "      <th>outcome</th>\n",
       "    </tr>\n",
       "  </thead>\n",
       "  <tbody>\n",
       "    <tr>\n",
       "      <th>0</th>\n",
       "      <td>12.0</td>\n",
       "      <td>2.0</td>\n",
       "      <td>NaN</td>\n",
       "      <td>NaN</td>\n",
       "      <td>4.6</td>\n",
       "      <td>NaN</td>\n",
       "      <td>9.3</td>\n",
       "      <td>6.676</td>\n",
       "      <td>A</td>\n",
       "    </tr>\n",
       "    <tr>\n",
       "      <th>1</th>\n",
       "      <td>14.0</td>\n",
       "      <td>2.0</td>\n",
       "      <td>NaN</td>\n",
       "      <td>NaN</td>\n",
       "      <td>4.8</td>\n",
       "      <td>NaN</td>\n",
       "      <td>8.9</td>\n",
       "      <td>7.688</td>\n",
       "      <td>A</td>\n",
       "    </tr>\n",
       "    <tr>\n",
       "      <th>2</th>\n",
       "      <td>13.1</td>\n",
       "      <td>0.3</td>\n",
       "      <td>18.6</td>\n",
       "      <td>4.4</td>\n",
       "      <td>0.2</td>\n",
       "      <td>1.5</td>\n",
       "      <td>8.5</td>\n",
       "      <td>8.982</td>\n",
       "      <td>C</td>\n",
       "    </tr>\n",
       "    <tr>\n",
       "      <th>3</th>\n",
       "      <td>13.3</td>\n",
       "      <td>0.2</td>\n",
       "      <td>18.2</td>\n",
       "      <td>3.6</td>\n",
       "      <td>1.0</td>\n",
       "      <td>1.2</td>\n",
       "      <td>9.3</td>\n",
       "      <td>8.978</td>\n",
       "      <td>C</td>\n",
       "    </tr>\n",
       "    <tr>\n",
       "      <th>4</th>\n",
       "      <td>13.1</td>\n",
       "      <td>0.4</td>\n",
       "      <td>19.5</td>\n",
       "      <td>4.5</td>\n",
       "      <td>1.5</td>\n",
       "      <td>1.6</td>\n",
       "      <td>8.5</td>\n",
       "      <td>9.184</td>\n",
       "      <td>C</td>\n",
       "    </tr>\n",
       "  </tbody>\n",
       "</table>\n",
       "</div>"
      ],
      "text/plain": [
       "   Moisture (%)  Foreign Matter (%)  Broken (%)  Red & Chalky grains (%)  \\\n",
       "0          12.0                 2.0         NaN                      NaN   \n",
       "1          14.0                 2.0         NaN                      NaN   \n",
       "2          13.1                 0.3        18.6                      4.4   \n",
       "3          13.3                 0.2        18.2                      3.6   \n",
       "4          13.1                 0.4        19.5                      4.5   \n",
       "\n",
       "   Damaged Grain (%)  Discolored grain(%)/ 1mm/ Shrivelled  \\\n",
       "0                4.6                                   NaN   \n",
       "1                4.8                                   NaN   \n",
       "2                0.2                                   1.5   \n",
       "3                1.0                                   1.2   \n",
       "4                1.5                                   1.6   \n",
       "\n",
       "   Mixed ( lower class) (%) (Other Grain)  Final Value outcome  \n",
       "0                                     9.3        6.676       A  \n",
       "1                                     8.9        7.688       A  \n",
       "2                                     8.5        8.982       C  \n",
       "3                                     9.3        8.978       C  \n",
       "4                                     8.5        9.184       C  "
      ]
     },
     "execution_count": 3,
     "metadata": {},
     "output_type": "execute_result"
    }
   ],
   "source": [
    "train.head()"
   ]
  },
  {
   "cell_type": "code",
   "execution_count": 4,
   "metadata": {},
   "outputs": [
    {
     "data": {
      "text/html": [
       "<div>\n",
       "<style scoped>\n",
       "    .dataframe tbody tr th:only-of-type {\n",
       "        vertical-align: middle;\n",
       "    }\n",
       "\n",
       "    .dataframe tbody tr th {\n",
       "        vertical-align: top;\n",
       "    }\n",
       "\n",
       "    .dataframe thead th {\n",
       "        text-align: right;\n",
       "    }\n",
       "</style>\n",
       "<table border=\"1\" class=\"dataframe\">\n",
       "  <thead>\n",
       "    <tr style=\"text-align: right;\">\n",
       "      <th></th>\n",
       "      <th>Moisture (%)</th>\n",
       "      <th>Foreign Matter (%)</th>\n",
       "      <th>Broken (%)</th>\n",
       "      <th>Red &amp; Chalky grains (%)</th>\n",
       "      <th>Damaged Grain (%)</th>\n",
       "      <th>Discolored grain(%)/ 1mm/ Shrivelled</th>\n",
       "      <th>Mixed ( lower class) (%) (Other Grain)</th>\n",
       "      <th>Final Value</th>\n",
       "      <th>outcome</th>\n",
       "    </tr>\n",
       "  </thead>\n",
       "  <tbody>\n",
       "    <tr>\n",
       "      <th>0</th>\n",
       "      <td>False</td>\n",
       "      <td>False</td>\n",
       "      <td>True</td>\n",
       "      <td>True</td>\n",
       "      <td>False</td>\n",
       "      <td>True</td>\n",
       "      <td>False</td>\n",
       "      <td>False</td>\n",
       "      <td>False</td>\n",
       "    </tr>\n",
       "    <tr>\n",
       "      <th>1</th>\n",
       "      <td>False</td>\n",
       "      <td>False</td>\n",
       "      <td>True</td>\n",
       "      <td>True</td>\n",
       "      <td>False</td>\n",
       "      <td>True</td>\n",
       "      <td>False</td>\n",
       "      <td>False</td>\n",
       "      <td>False</td>\n",
       "    </tr>\n",
       "    <tr>\n",
       "      <th>2</th>\n",
       "      <td>False</td>\n",
       "      <td>False</td>\n",
       "      <td>False</td>\n",
       "      <td>False</td>\n",
       "      <td>False</td>\n",
       "      <td>False</td>\n",
       "      <td>False</td>\n",
       "      <td>False</td>\n",
       "      <td>False</td>\n",
       "    </tr>\n",
       "    <tr>\n",
       "      <th>3</th>\n",
       "      <td>False</td>\n",
       "      <td>False</td>\n",
       "      <td>False</td>\n",
       "      <td>False</td>\n",
       "      <td>False</td>\n",
       "      <td>False</td>\n",
       "      <td>False</td>\n",
       "      <td>False</td>\n",
       "      <td>False</td>\n",
       "    </tr>\n",
       "    <tr>\n",
       "      <th>4</th>\n",
       "      <td>False</td>\n",
       "      <td>False</td>\n",
       "      <td>False</td>\n",
       "      <td>False</td>\n",
       "      <td>False</td>\n",
       "      <td>False</td>\n",
       "      <td>False</td>\n",
       "      <td>False</td>\n",
       "      <td>False</td>\n",
       "    </tr>\n",
       "    <tr>\n",
       "      <th>...</th>\n",
       "      <td>...</td>\n",
       "      <td>...</td>\n",
       "      <td>...</td>\n",
       "      <td>...</td>\n",
       "      <td>...</td>\n",
       "      <td>...</td>\n",
       "      <td>...</td>\n",
       "      <td>...</td>\n",
       "      <td>...</td>\n",
       "    </tr>\n",
       "    <tr>\n",
       "      <th>226</th>\n",
       "      <td>False</td>\n",
       "      <td>False</td>\n",
       "      <td>False</td>\n",
       "      <td>False</td>\n",
       "      <td>False</td>\n",
       "      <td>False</td>\n",
       "      <td>False</td>\n",
       "      <td>False</td>\n",
       "      <td>False</td>\n",
       "    </tr>\n",
       "    <tr>\n",
       "      <th>227</th>\n",
       "      <td>False</td>\n",
       "      <td>False</td>\n",
       "      <td>False</td>\n",
       "      <td>False</td>\n",
       "      <td>False</td>\n",
       "      <td>False</td>\n",
       "      <td>False</td>\n",
       "      <td>False</td>\n",
       "      <td>False</td>\n",
       "    </tr>\n",
       "    <tr>\n",
       "      <th>228</th>\n",
       "      <td>False</td>\n",
       "      <td>False</td>\n",
       "      <td>False</td>\n",
       "      <td>False</td>\n",
       "      <td>False</td>\n",
       "      <td>False</td>\n",
       "      <td>False</td>\n",
       "      <td>False</td>\n",
       "      <td>False</td>\n",
       "    </tr>\n",
       "    <tr>\n",
       "      <th>229</th>\n",
       "      <td>False</td>\n",
       "      <td>False</td>\n",
       "      <td>False</td>\n",
       "      <td>False</td>\n",
       "      <td>False</td>\n",
       "      <td>False</td>\n",
       "      <td>False</td>\n",
       "      <td>False</td>\n",
       "      <td>False</td>\n",
       "    </tr>\n",
       "    <tr>\n",
       "      <th>230</th>\n",
       "      <td>False</td>\n",
       "      <td>False</td>\n",
       "      <td>False</td>\n",
       "      <td>False</td>\n",
       "      <td>False</td>\n",
       "      <td>False</td>\n",
       "      <td>False</td>\n",
       "      <td>False</td>\n",
       "      <td>False</td>\n",
       "    </tr>\n",
       "  </tbody>\n",
       "</table>\n",
       "<p>231 rows × 9 columns</p>\n",
       "</div>"
      ],
      "text/plain": [
       "     Moisture (%)  Foreign Matter (%)  Broken (%)  Red & Chalky grains (%)  \\\n",
       "0           False               False        True                     True   \n",
       "1           False               False        True                     True   \n",
       "2           False               False       False                    False   \n",
       "3           False               False       False                    False   \n",
       "4           False               False       False                    False   \n",
       "..            ...                 ...         ...                      ...   \n",
       "226         False               False       False                    False   \n",
       "227         False               False       False                    False   \n",
       "228         False               False       False                    False   \n",
       "229         False               False       False                    False   \n",
       "230         False               False       False                    False   \n",
       "\n",
       "     Damaged Grain (%)  Discolored grain(%)/ 1mm/ Shrivelled  \\\n",
       "0                False                                  True   \n",
       "1                False                                  True   \n",
       "2                False                                 False   \n",
       "3                False                                 False   \n",
       "4                False                                 False   \n",
       "..                 ...                                   ...   \n",
       "226              False                                 False   \n",
       "227              False                                 False   \n",
       "228              False                                 False   \n",
       "229              False                                 False   \n",
       "230              False                                 False   \n",
       "\n",
       "     Mixed ( lower class) (%) (Other Grain)  Final Value  outcome  \n",
       "0                                     False        False    False  \n",
       "1                                     False        False    False  \n",
       "2                                     False        False    False  \n",
       "3                                     False        False    False  \n",
       "4                                     False        False    False  \n",
       "..                                      ...          ...      ...  \n",
       "226                                   False        False    False  \n",
       "227                                   False        False    False  \n",
       "228                                   False        False    False  \n",
       "229                                   False        False    False  \n",
       "230                                   False        False    False  \n",
       "\n",
       "[231 rows x 9 columns]"
      ]
     },
     "execution_count": 4,
     "metadata": {},
     "output_type": "execute_result"
    }
   ],
   "source": [
    "train.isnull()"
   ]
  },
  {
   "cell_type": "code",
   "execution_count": 5,
   "metadata": {},
   "outputs": [
    {
     "data": {
      "text/plain": [
       "<AxesSubplot:>"
      ]
     },
     "execution_count": 5,
     "metadata": {},
     "output_type": "execute_result"
    },
    {
     "data": {
      "image/png": "[encoded data removed]",
      "text/plain": [
       "<Figure size 432x288 with 1 Axes>"
      ]
     },
     "metadata": {
      "needs_background": "light"
     },
     "output_type": "display_data"
    }
   ],
   "source": [
    "sns.heatmap(train.isnull(),yticklabels = False, cbar = False, cmap = 'viridis')"
   ]
  },
  {
   "cell_type": "code",
   "execution_count": 6,
   "metadata": {},
   "outputs": [
    {
     "data": {
      "image/png": "[encoded data removed]",
      "text/plain": [
       "<Figure size 1440x720 with 1 Axes>"
      ]
     },
     "metadata": {
      "needs_background": "light"
     },
     "output_type": "display_data"
    }
   ],
   "source": [
    "plt.figure(figsize = (20,10))\n",
    "plt.hist(\"Final Value\",data = train, edgecolor = 'k')\n",
    "plt.show()"
   ]
  },
  {
   "cell_type": "code",
   "execution_count": null,
   "metadata": {},
   "outputs": [],
   "source": []
  },
  {
   "cell_type": "code",
   "execution_count": 7,
   "metadata": {},
   "outputs": [
    {
     "data": {
      "text/plain": [
       "Moisture (%)                              0\n",
       "Foreign Matter (%)                        2\n",
       "Broken (%)                                3\n",
       "Red & Chalky grains (%)                   3\n",
       "Damaged Grain (%)                         1\n",
       "Discolored grain(%)/ 1mm/ Shrivelled      3\n",
       "Mixed ( lower class) (%) (Other Grain)    2\n",
       "Final Value                               0\n",
       "outcome                                   0\n",
       "dtype: int64"
      ]
     },
     "execution_count": 7,
     "metadata": {},
     "output_type": "execute_result"
    }
   ],
   "source": [
    "train.isnull().sum()"
   ]
  },
  {
   "cell_type": "code",
   "execution_count": 8,
   "metadata": {},
   "outputs": [
    {
     "data": {
      "text/plain": [
       "0      2.0\n",
       "1      2.0\n",
       "2      0.3\n",
       "3      0.2\n",
       "4      0.4\n",
       "      ... \n",
       "226    0.3\n",
       "227    0.2\n",
       "228    0.3\n",
       "229    0.2\n",
       "230    0.3\n",
       "Name: Foreign Matter (%), Length: 231, dtype: float64"
      ]
     },
     "execution_count": 8,
     "metadata": {},
     "output_type": "execute_result"
    }
   ],
   "source": [
    "foreign_matter = train['Foreign Matter (%)']\n",
    "foreign_matter"
   ]
  },
  {
   "cell_type": "code",
   "execution_count": 9,
   "metadata": {},
   "outputs": [
    {
     "data": {
      "text/plain": [
       "0.25209606986899563"
      ]
     },
     "execution_count": 9,
     "metadata": {},
     "output_type": "execute_result"
    }
   ],
   "source": [
    "foreign_matter_mean = foreign_matter.mean()\n",
    "foreign_matter_mean"
   ]
  },
  {
   "cell_type": "code",
   "execution_count": 10,
   "metadata": {},
   "outputs": [],
   "source": [
    "foreign_matter.fillna(foreign_matter_mean, inplace = True)"
   ]
  },
  {
   "cell_type": "code",
   "execution_count": 11,
   "metadata": {},
   "outputs": [],
   "source": [
    "broken = train['Broken (%)']\n",
    "broken_mean = broken.mean()\n",
    "broken.fillna(broken_mean, inplace = True)"
   ]
  },
  {
   "cell_type": "code",
   "execution_count": 12,
   "metadata": {},
   "outputs": [],
   "source": [
    "red = train['Red & Chalky grains (%)']\n",
    "red_mean = red.mean()\n",
    "red.fillna(red_mean, inplace = True)"
   ]
  },
  {
   "cell_type": "code",
   "execution_count": 13,
   "metadata": {},
   "outputs": [],
   "source": [
    "damaged_grain = train['Damaged Grain (%)']\n",
    "damaged_grain_mean = damaged_grain.mean()\n",
    "damaged_grain.fillna(damaged_grain_mean, inplace = True)"
   ]
  },
  {
   "cell_type": "code",
   "execution_count": 14,
   "metadata": {},
   "outputs": [],
   "source": [
    "discolored_grain = train['Discolored grain(%)/ 1mm/ Shrivelled']\n",
    "discolored_grain_mean = discolored_grain.mean()\n",
    "discolored_grain.fillna(discolored_grain_mean, inplace = True)"
   ]
  },
  {
   "cell_type": "code",
   "execution_count": 15,
   "metadata": {},
   "outputs": [],
   "source": [
    "mixed = train['Mixed ( lower class) (%) (Other Grain)']\n",
    "mixed_mean = mixed.mean()\n",
    "mixed.fillna(mixed_mean, inplace = True)"
   ]
  },
  {
   "cell_type": "code",
   "execution_count": 16,
   "metadata": {},
   "outputs": [
    {
     "data": {
      "text/plain": [
       "Moisture (%)                              0\n",
       "Foreign Matter (%)                        0\n",
       "Broken (%)                                0\n",
       "Red & Chalky grains (%)                   0\n",
       "Damaged Grain (%)                         0\n",
       "Discolored grain(%)/ 1mm/ Shrivelled      0\n",
       "Mixed ( lower class) (%) (Other Grain)    0\n",
       "Final Value                               0\n",
       "outcome                                   0\n",
       "dtype: int64"
      ]
     },
     "execution_count": 16,
     "metadata": {},
     "output_type": "execute_result"
    }
   ],
   "source": [
    "train.isnull().sum()"
   ]
  },
  {
   "cell_type": "code",
   "execution_count": 17,
   "metadata": {},
   "outputs": [
    {
     "data": {
      "text/html": [
       "<div>\n",
       "<style scoped>\n",
       "    .dataframe tbody tr th:only-of-type {\n",
       "        vertical-align: middle;\n",
       "    }\n",
       "\n",
       "    .dataframe tbody tr th {\n",
       "        vertical-align: top;\n",
       "    }\n",
       "\n",
       "    .dataframe thead th {\n",
       "        text-align: right;\n",
       "    }\n",
       "</style>\n",
       "<table border=\"1\" class=\"dataframe\">\n",
       "  <thead>\n",
       "    <tr style=\"text-align: right;\">\n",
       "      <th></th>\n",
       "      <th>Moisture (%)</th>\n",
       "      <th>Foreign Matter (%)</th>\n",
       "      <th>Broken (%)</th>\n",
       "      <th>Red &amp; Chalky grains (%)</th>\n",
       "      <th>Damaged Grain (%)</th>\n",
       "      <th>Discolored grain(%)/ 1mm/ Shrivelled</th>\n",
       "      <th>Mixed ( lower class) (%) (Other Grain)</th>\n",
       "      <th>Final Value</th>\n",
       "      <th>outcome</th>\n",
       "    </tr>\n",
       "  </thead>\n",
       "  <tbody>\n",
       "    <tr>\n",
       "      <th>0</th>\n",
       "      <td>12.0</td>\n",
       "      <td>2.0</td>\n",
       "      <td>16.314167</td>\n",
       "      <td>4.01164</td>\n",
       "      <td>4.6</td>\n",
       "      <td>1.518399</td>\n",
       "      <td>9.3</td>\n",
       "      <td>6.676</td>\n",
       "      <td>A</td>\n",
       "    </tr>\n",
       "    <tr>\n",
       "      <th>1</th>\n",
       "      <td>14.0</td>\n",
       "      <td>2.0</td>\n",
       "      <td>16.314167</td>\n",
       "      <td>4.01164</td>\n",
       "      <td>4.8</td>\n",
       "      <td>1.518399</td>\n",
       "      <td>8.9</td>\n",
       "      <td>7.688</td>\n",
       "      <td>A</td>\n",
       "    </tr>\n",
       "    <tr>\n",
       "      <th>2</th>\n",
       "      <td>13.1</td>\n",
       "      <td>0.3</td>\n",
       "      <td>18.600000</td>\n",
       "      <td>4.40000</td>\n",
       "      <td>0.2</td>\n",
       "      <td>1.500000</td>\n",
       "      <td>8.5</td>\n",
       "      <td>8.982</td>\n",
       "      <td>C</td>\n",
       "    </tr>\n",
       "    <tr>\n",
       "      <th>3</th>\n",
       "      <td>13.3</td>\n",
       "      <td>0.2</td>\n",
       "      <td>18.200000</td>\n",
       "      <td>3.60000</td>\n",
       "      <td>1.0</td>\n",
       "      <td>1.200000</td>\n",
       "      <td>9.3</td>\n",
       "      <td>8.978</td>\n",
       "      <td>C</td>\n",
       "    </tr>\n",
       "    <tr>\n",
       "      <th>4</th>\n",
       "      <td>13.1</td>\n",
       "      <td>0.4</td>\n",
       "      <td>19.500000</td>\n",
       "      <td>4.50000</td>\n",
       "      <td>1.5</td>\n",
       "      <td>1.600000</td>\n",
       "      <td>8.5</td>\n",
       "      <td>9.184</td>\n",
       "      <td>C</td>\n",
       "    </tr>\n",
       "  </tbody>\n",
       "</table>\n",
       "</div>"
      ],
      "text/plain": [
       "   Moisture (%)  Foreign Matter (%)  Broken (%)  Red & Chalky grains (%)  \\\n",
       "0          12.0                 2.0   16.314167                  4.01164   \n",
       "1          14.0                 2.0   16.314167                  4.01164   \n",
       "2          13.1                 0.3   18.600000                  4.40000   \n",
       "3          13.3                 0.2   18.200000                  3.60000   \n",
       "4          13.1                 0.4   19.500000                  4.50000   \n",
       "\n",
       "   Damaged Grain (%)  Discolored grain(%)/ 1mm/ Shrivelled  \\\n",
       "0                4.6                              1.518399   \n",
       "1                4.8                              1.518399   \n",
       "2                0.2                              1.500000   \n",
       "3                1.0                              1.200000   \n",
       "4                1.5                              1.600000   \n",
       "\n",
       "   Mixed ( lower class) (%) (Other Grain)  Final Value outcome  \n",
       "0                                     9.3        6.676       A  \n",
       "1                                     8.9        7.688       A  \n",
       "2                                     8.5        8.982       C  \n",
       "3                                     9.3        8.978       C  \n",
       "4                                     8.5        9.184       C  "
      ]
     },
     "execution_count": 17,
     "metadata": {},
     "output_type": "execute_result"
    }
   ],
   "source": [
    "train.head()"
   ]
  },
  {
   "cell_type": "code",
   "execution_count": 18,
   "metadata": {},
   "outputs": [
    {
     "data": {
      "text/plain": [
       "<AxesSubplot:>"
      ]
     },
     "execution_count": 18,
     "metadata": {},
     "output_type": "execute_result"
    },
    {
     "data": {
      "image/png": "[encoded data removed]",
      "text/plain": [
       "<Figure size 432x288 with 1 Axes>"
      ]
     },
     "metadata": {
      "needs_background": "light"
     },
     "output_type": "display_data"
    }
   ],
   "source": [
    "sns.heatmap(train.isnull(),yticklabels = False, cbar = False, cmap = 'viridis')"
   ]
  },
  {
   "cell_type": "code",
   "execution_count": 19,
   "metadata": {},
   "outputs": [
    {
     "name": "stderr",
     "output_type": "stream",
     "text": [
      "c:\\users\\acer\\appdata\\local\\programs\\python\\python38-32\\lib\\site-packages\\seaborn\\distributions.py:2557: FutureWarning: `distplot` is a deprecated function and will be removed in a future version. Please adapt your code to use either `displot` (a figure-level function with similar flexibility) or `histplot` (an axes-level function for histograms).\n",
      "  warnings.warn(msg, FutureWarning)\n"
     ]
    },
    {
     "data": {
      "text/plain": [
       "<AxesSubplot:xlabel='Final Value', ylabel='Density'>"
      ]
     },
     "execution_count": 19,
     "metadata": {},
     "output_type": "execute_result"
    },
    {
     "data": {
      "image/png": "[encoded data removed]",
      "text/plain": [
       "<Figure size 432x288 with 1 Axes>"
      ]
     },
     "metadata": {
      "needs_background": "light"
     },
     "output_type": "display_data"
    }
   ],
   "source": [
    "sns.distplot(train['Final Value'])"
   ]
  },
  {
   "cell_type": "code",
   "execution_count": 20,
   "metadata": {},
   "outputs": [
    {
     "data": {
      "text/html": [
       "<div>\n",
       "<style scoped>\n",
       "    .dataframe tbody tr th:only-of-type {\n",
       "        vertical-align: middle;\n",
       "    }\n",
       "\n",
       "    .dataframe tbody tr th {\n",
       "        vertical-align: top;\n",
       "    }\n",
       "\n",
       "    .dataframe thead th {\n",
       "        text-align: right;\n",
       "    }\n",
       "</style>\n",
       "<table border=\"1\" class=\"dataframe\">\n",
       "  <thead>\n",
       "    <tr style=\"text-align: right;\">\n",
       "      <th></th>\n",
       "      <th>Moisture (%)</th>\n",
       "      <th>Foreign Matter (%)</th>\n",
       "      <th>Broken (%)</th>\n",
       "      <th>Red &amp; Chalky grains (%)</th>\n",
       "      <th>Damaged Grain (%)</th>\n",
       "      <th>Discolored grain(%)/ 1mm/ Shrivelled</th>\n",
       "      <th>Mixed ( lower class) (%) (Other Grain)</th>\n",
       "      <th>outcome</th>\n",
       "    </tr>\n",
       "  </thead>\n",
       "  <tbody>\n",
       "    <tr>\n",
       "      <th>0</th>\n",
       "      <td>12.0</td>\n",
       "      <td>2.0</td>\n",
       "      <td>16.314167</td>\n",
       "      <td>4.01164</td>\n",
       "      <td>4.6</td>\n",
       "      <td>1.518399</td>\n",
       "      <td>9.3</td>\n",
       "      <td>A</td>\n",
       "    </tr>\n",
       "    <tr>\n",
       "      <th>1</th>\n",
       "      <td>14.0</td>\n",
       "      <td>2.0</td>\n",
       "      <td>16.314167</td>\n",
       "      <td>4.01164</td>\n",
       "      <td>4.8</td>\n",
       "      <td>1.518399</td>\n",
       "      <td>8.9</td>\n",
       "      <td>A</td>\n",
       "    </tr>\n",
       "    <tr>\n",
       "      <th>2</th>\n",
       "      <td>13.1</td>\n",
       "      <td>0.3</td>\n",
       "      <td>18.600000</td>\n",
       "      <td>4.40000</td>\n",
       "      <td>0.2</td>\n",
       "      <td>1.500000</td>\n",
       "      <td>8.5</td>\n",
       "      <td>C</td>\n",
       "    </tr>\n",
       "    <tr>\n",
       "      <th>3</th>\n",
       "      <td>13.3</td>\n",
       "      <td>0.2</td>\n",
       "      <td>18.200000</td>\n",
       "      <td>3.60000</td>\n",
       "      <td>1.0</td>\n",
       "      <td>1.200000</td>\n",
       "      <td>9.3</td>\n",
       "      <td>C</td>\n",
       "    </tr>\n",
       "    <tr>\n",
       "      <th>4</th>\n",
       "      <td>13.1</td>\n",
       "      <td>0.4</td>\n",
       "      <td>19.500000</td>\n",
       "      <td>4.50000</td>\n",
       "      <td>1.5</td>\n",
       "      <td>1.600000</td>\n",
       "      <td>8.5</td>\n",
       "      <td>C</td>\n",
       "    </tr>\n",
       "  </tbody>\n",
       "</table>\n",
       "</div>"
      ],
      "text/plain": [
       "   Moisture (%)  Foreign Matter (%)  Broken (%)  Red & Chalky grains (%)  \\\n",
       "0          12.0                 2.0   16.314167                  4.01164   \n",
       "1          14.0                 2.0   16.314167                  4.01164   \n",
       "2          13.1                 0.3   18.600000                  4.40000   \n",
       "3          13.3                 0.2   18.200000                  3.60000   \n",
       "4          13.1                 0.4   19.500000                  4.50000   \n",
       "\n",
       "   Damaged Grain (%)  Discolored grain(%)/ 1mm/ Shrivelled  \\\n",
       "0                4.6                              1.518399   \n",
       "1                4.8                              1.518399   \n",
       "2                0.2                              1.500000   \n",
       "3                1.0                              1.200000   \n",
       "4                1.5                              1.600000   \n",
       "\n",
       "   Mixed ( lower class) (%) (Other Grain) outcome  \n",
       "0                                     9.3       A  \n",
       "1                                     8.9       A  \n",
       "2                                     8.5       C  \n",
       "3                                     9.3       C  \n",
       "4                                     8.5       C  "
      ]
     },
     "execution_count": 20,
     "metadata": {},
     "output_type": "execute_result"
    }
   ],
   "source": [
    "train.drop('Final Value', axis = 1, inplace = True)\n",
    "train.head()"
   ]
  },
  {
   "cell_type": "code",
   "execution_count": 21,
   "metadata": {},
   "outputs": [
    {
     "data": {
      "text/plain": [
       "array(['A', 'C', 'B'], dtype=object)"
      ]
     },
     "execution_count": 21,
     "metadata": {},
     "output_type": "execute_result"
    }
   ],
   "source": [
    "train['outcome'].unique()"
   ]
  },
  {
   "cell_type": "code",
   "execution_count": 22,
   "metadata": {},
   "outputs": [],
   "source": [
    "train['outcome'] = train['outcome'].replace({'A':0 , 'B':1, 'C':2})"
   ]
  },
  {
   "cell_type": "code",
   "execution_count": 23,
   "metadata": {},
   "outputs": [
    {
     "data": {
      "text/html": [
       "<div>\n",
       "<style scoped>\n",
       "    .dataframe tbody tr th:only-of-type {\n",
       "        vertical-align: middle;\n",
       "    }\n",
       "\n",
       "    .dataframe tbody tr th {\n",
       "        vertical-align: top;\n",
       "    }\n",
       "\n",
       "    .dataframe thead th {\n",
       "        text-align: right;\n",
       "    }\n",
       "</style>\n",
       "<table border=\"1\" class=\"dataframe\">\n",
       "  <thead>\n",
       "    <tr style=\"text-align: right;\">\n",
       "      <th></th>\n",
       "      <th>Moisture (%)</th>\n",
       "      <th>Foreign Matter (%)</th>\n",
       "      <th>Broken (%)</th>\n",
       "      <th>Red &amp; Chalky grains (%)</th>\n",
       "      <th>Damaged Grain (%)</th>\n",
       "      <th>Discolored grain(%)/ 1mm/ Shrivelled</th>\n",
       "      <th>Mixed ( lower class) (%) (Other Grain)</th>\n",
       "      <th>outcome</th>\n",
       "    </tr>\n",
       "  </thead>\n",
       "  <tbody>\n",
       "    <tr>\n",
       "      <th>0</th>\n",
       "      <td>12.0</td>\n",
       "      <td>2.0</td>\n",
       "      <td>16.314167</td>\n",
       "      <td>4.01164</td>\n",
       "      <td>4.6</td>\n",
       "      <td>1.518399</td>\n",
       "      <td>9.3</td>\n",
       "      <td>0</td>\n",
       "    </tr>\n",
       "    <tr>\n",
       "      <th>1</th>\n",
       "      <td>14.0</td>\n",
       "      <td>2.0</td>\n",
       "      <td>16.314167</td>\n",
       "      <td>4.01164</td>\n",
       "      <td>4.8</td>\n",
       "      <td>1.518399</td>\n",
       "      <td>8.9</td>\n",
       "      <td>0</td>\n",
       "    </tr>\n",
       "    <tr>\n",
       "      <th>2</th>\n",
       "      <td>13.1</td>\n",
       "      <td>0.3</td>\n",
       "      <td>18.600000</td>\n",
       "      <td>4.40000</td>\n",
       "      <td>0.2</td>\n",
       "      <td>1.500000</td>\n",
       "      <td>8.5</td>\n",
       "      <td>2</td>\n",
       "    </tr>\n",
       "    <tr>\n",
       "      <th>3</th>\n",
       "      <td>13.3</td>\n",
       "      <td>0.2</td>\n",
       "      <td>18.200000</td>\n",
       "      <td>3.60000</td>\n",
       "      <td>1.0</td>\n",
       "      <td>1.200000</td>\n",
       "      <td>9.3</td>\n",
       "      <td>2</td>\n",
       "    </tr>\n",
       "    <tr>\n",
       "      <th>4</th>\n",
       "      <td>13.1</td>\n",
       "      <td>0.4</td>\n",
       "      <td>19.500000</td>\n",
       "      <td>4.50000</td>\n",
       "      <td>1.5</td>\n",
       "      <td>1.600000</td>\n",
       "      <td>8.5</td>\n",
       "      <td>2</td>\n",
       "    </tr>\n",
       "  </tbody>\n",
       "</table>\n",
       "</div>"
      ],
      "text/plain": [
       "   Moisture (%)  Foreign Matter (%)  Broken (%)  Red & Chalky grains (%)  \\\n",
       "0          12.0                 2.0   16.314167                  4.01164   \n",
       "1          14.0                 2.0   16.314167                  4.01164   \n",
       "2          13.1                 0.3   18.600000                  4.40000   \n",
       "3          13.3                 0.2   18.200000                  3.60000   \n",
       "4          13.1                 0.4   19.500000                  4.50000   \n",
       "\n",
       "   Damaged Grain (%)  Discolored grain(%)/ 1mm/ Shrivelled  \\\n",
       "0                4.6                              1.518399   \n",
       "1                4.8                              1.518399   \n",
       "2                0.2                              1.500000   \n",
       "3                1.0                              1.200000   \n",
       "4                1.5                              1.600000   \n",
       "\n",
       "   Mixed ( lower class) (%) (Other Grain)  outcome  \n",
       "0                                     9.3        0  \n",
       "1                                     8.9        0  \n",
       "2                                     8.5        2  \n",
       "3                                     9.3        2  \n",
       "4                                     8.5        2  "
      ]
     },
     "execution_count": 23,
     "metadata": {},
     "output_type": "execute_result"
    }
   ],
   "source": [
    "train.head()"
   ]
  },
  {
   "cell_type": "code",
   "execution_count": 24,
   "metadata": {},
   "outputs": [],
   "source": [
    "X = train.drop('outcome', axis =1)\n",
    "y = train['outcome']"
   ]
  },
  {
   "cell_type": "code",
   "execution_count": 25,
   "metadata": {},
   "outputs": [],
   "source": [
    "from sklearn.model_selection import train_test_split"
   ]
  },
  {
   "cell_type": "code",
   "execution_count": 26,
   "metadata": {},
   "outputs": [],
   "source": [
    "X_train, X_test, y_train, y_test = train_test_split(X,y, test_size = 0.20)"
   ]
  },
  {
   "cell_type": "code",
   "execution_count": 27,
   "metadata": {},
   "outputs": [
    {
     "data": {
      "text/plain": [
       "184"
      ]
     },
     "execution_count": 27,
     "metadata": {},
     "output_type": "execute_result"
    }
   ],
   "source": [
    "len(y_train)"
   ]
  },
  {
   "cell_type": "code",
   "execution_count": 28,
   "metadata": {},
   "outputs": [
    {
     "data": {
      "text/plain": [
       "92     0\n",
       "209    1\n",
       "39     2\n",
       "110    0\n",
       "200    1\n",
       "      ..\n",
       "171    2\n",
       "210    1\n",
       "77     2\n",
       "176    1\n",
       "37     1\n",
       "Name: outcome, Length: 184, dtype: int64"
      ]
     },
     "execution_count": 28,
     "metadata": {},
     "output_type": "execute_result"
    }
   ],
   "source": [
    "y_train"
   ]
  },
  {
   "cell_type": "code",
   "execution_count": 43,
   "metadata": {},
   "outputs": [],
   "source": [
    "from sklearn.linear_model import LogisticRegression"
   ]
  },
  {
   "cell_type": "code",
   "execution_count": 44,
   "metadata": {
    "scrolled": true
   },
   "outputs": [
    {
     "name": "stderr",
     "output_type": "stream",
     "text": [
      "c:\\users\\acer\\appdata\\local\\programs\\python\\python38-32\\lib\\site-packages\\sklearn\\linear_model\\_logistic.py:814: ConvergenceWarning: lbfgs failed to converge (status=1):\n",
      "STOP: TOTAL NO. of ITERATIONS REACHED LIMIT.\n",
      "\n",
      "Increase the number of iterations (max_iter) or scale the data as shown in:\n",
      "    https://scikit-learn.org/stable/modules/preprocessing.html\n",
      "Please also refer to the documentation for alternative solver options:\n",
      "    https://scikit-learn.org/stable/modules/linear_model.html#logistic-regression\n",
      "  n_iter_i = _check_optimize_result(\n"
     ]
    },
    {
     "data": {
      "text/plain": [
       "LogisticRegression(max_iter=10)"
      ]
     },
     "execution_count": 44,
     "metadata": {},
     "output_type": "execute_result"
    }
   ],
   "source": [
    "logmodel = LogisticRegression(max_iter=10)\n",
    "logmodel.fit(X_train, y_train)"
   ]
  },
  {
   "cell_type": "markdown",
   "metadata": {},
   "source": []
  },
  {
   "cell_type": "code",
   "execution_count": 45,
   "metadata": {},
   "outputs": [
    {
     "data": {
      "text/plain": [
       "0.6170212765957447"
      ]
     },
     "execution_count": 45,
     "metadata": {},
     "output_type": "execute_result"
    }
   ],
   "source": [
    "logmodel.score(X_test, y_test)"
   ]
  },
  {
   "cell_type": "code",
   "execution_count": 32,
   "metadata": {},
   "outputs": [],
   "source": [
    "predictions = logmodel.predict(X_test)"
   ]
  },
  {
   "cell_type": "code",
   "execution_count": 33,
   "metadata": {},
   "outputs": [],
   "source": [
    "from sklearn.metrics import confusion_matrix"
   ]
  },
  {
   "cell_type": "code",
   "execution_count": 34,
   "metadata": {},
   "outputs": [],
   "source": [
    "accuracy = confusion_matrix(y_test,predictions)"
   ]
  },
  {
   "cell_type": "code",
   "execution_count": 35,
   "metadata": {},
   "outputs": [
    {
     "data": {
      "text/plain": [
       "array([[ 7,  5,  0],\n",
       "       [ 2, 18,  2],\n",
       "       [ 0,  0, 13]], dtype=int64)"
      ]
     },
     "execution_count": 35,
     "metadata": {},
     "output_type": "execute_result"
    }
   ],
   "source": [
    "accuracy"
   ]
  },
  {
   "cell_type": "code",
   "execution_count": null,
   "metadata": {},
   "outputs": [],
   "source": []
  }
 ],
 "metadata": {
  "kernelspec": {
   "display_name": "Python 3",
   "language": "python",
   "name": "python3"
  },
  "language_info": {
   "codemirror_mode": {
    "name": "ipython",
    "version": 3
   },
   "file_extension": ".py",
   "mimetype": "text/x-python",
   "name": "python",
   "nbconvert_exporter": "python",
   "pygments_lexer": "ipython3",
   "version": "3.8.0"
  }
 },
 "nbformat": 4,
 "nbformat_minor": 4
}
